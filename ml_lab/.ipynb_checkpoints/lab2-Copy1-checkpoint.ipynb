{
 "cells": [
  {
   "cell_type": "markdown",
   "metadata": {},
   "source": [
    "# **Save this file as studentid1_studentid2_lab#.ipynb**\n",
    "(Your student-id is the number shown on your student card.)\n",
    "\n",
    "E.g. if you work with 3 people, the notebook should be named:\n",
    "12301230_3434343_1238938934_lab1.ipynb.\n",
    "\n",
    "**This will be parsed by a regexp, so please double check your filename.**\n",
    "\n",
    "Before you turn this problem in, please make sure everything runs correctly. First, **restart the kernel** (in the menubar, select Kernel$\\rightarrow$Restart) and then **run all cells** (in the menubar, select Cell$\\rightarrow$Run All).\n",
    "\n",
    "**Make sure you fill in any place that says `YOUR CODE HERE` or \"YOUR ANSWER HERE\", as well as your names and email adresses below.**\n",
    "\n"
   ]
  },
  {
   "cell_type": "code",
   "execution_count": 1,
   "metadata": {
    "collapsed": true
   },
   "outputs": [],
   "source": [
    "NAME = \"tk\"\n",
    "NAME2 = \"\"\n",
    "NAME3 = \"\"\n",
    "EMAIL = \"\"\n",
    "EMAIL2 = \"\"\n",
    "EMAIL3 = \"\""
   ]
  },
  {
   "cell_type": "markdown",
   "metadata": {},
   "source": [
    "---"
   ]
  },
  {
   "cell_type": "markdown",
   "metadata": {
    "deletable": false,
    "editable": false,
    "nbgrader": {
     "checksum": "c39ec76a03b2143870009fb35729e8e0",
     "grade": false,
     "grade_id": "cell-8d856208da5d0763",
     "locked": true,
     "schema_version": 1,
     "solution": false
    }
   },
   "source": [
    "# Lab 2: Classification\n",
    "\n",
    "### Machine Learning 1, September 2017\n",
    "\n",
    "Notes on implementation:\n",
    "\n",
    "* You should write your code and answers in this IPython Notebook: http://ipython.org/notebook.html. If you have problems, please contact your teaching assistant.\n",
    "* Please write your answers right below the questions.\n",
    "* Among the first lines of your notebook should be \"%pylab inline\". This imports all required modules, and your plots will appear inline.\n",
    "* Use the provided test cells to check if your answers are correct\n",
    "* **Make sure your output and plots are correct before handing in your assignment with Kernel -> Restart & Run All**\n",
    "\n",
    "$\\newcommand{\\bx}{\\mathbf{x}}$\n",
    "$\\newcommand{\\bw}{\\mathbf{w}}$\n",
    "$\\newcommand{\\bt}{\\mathbf{t}}$\n",
    "$\\newcommand{\\by}{\\mathbf{y}}$\n",
    "$\\newcommand{\\bm}{\\mathbf{m}}$\n",
    "$\\newcommand{\\bb}{\\mathbf{b}}$\n",
    "$\\newcommand{\\bS}{\\mathbf{S}}$\n",
    "$\\newcommand{\\ba}{\\mathbf{a}}$\n",
    "$\\newcommand{\\bz}{\\mathbf{z}}$\n",
    "$\\newcommand{\\bv}{\\mathbf{v}}$\n",
    "$\\newcommand{\\bq}{\\mathbf{q}}$\n",
    "$\\newcommand{\\bp}{\\mathbf{p}}$\n",
    "$\\newcommand{\\bh}{\\mathbf{h}}$\n",
    "$\\newcommand{\\bI}{\\mathbf{I}}$\n",
    "$\\newcommand{\\bX}{\\mathbf{X}}$\n",
    "$\\newcommand{\\bT}{\\mathbf{T}}$\n",
    "$\\newcommand{\\bPhi}{\\mathbf{\\Phi}}$\n",
    "$\\newcommand{\\bW}{\\mathbf{W}}$\n",
    "$\\newcommand{\\bV}{\\mathbf{V}}$"
   ]
  },
  {
   "cell_type": "code",
   "execution_count": 2,
   "metadata": {
    "deletable": false,
    "editable": false,
    "nbgrader": {
     "checksum": "694e16c6fa7261b60747c28904049744",
     "grade": false,
     "grade_id": "cell-422dbc02437671ac",
     "locked": true,
     "schema_version": 1,
     "solution": false
    }
   },
   "outputs": [
    {
     "name": "stdout",
     "output_type": "stream",
     "text": [
      "Populating the interactive namespace from numpy and matplotlib\n"
     ]
    }
   ],
   "source": [
    "%pylab inline\n",
    "plt.rcParams[\"figure.figsize\"] = [9,5]"
   ]
  },
  {
   "cell_type": "markdown",
   "metadata": {
    "deletable": false,
    "editable": false,
    "nbgrader": {
     "checksum": "17f77a32492fcf6ac989eab8a50e4dab",
     "grade": false,
     "grade_id": "cell-821f67d8cd14e4f7",
     "locked": true,
     "schema_version": 1,
     "solution": false
    }
   },
   "source": [
    "# Part 1. Multiclass logistic regression\n",
    "\n",
    "Scenario: you have a friend with one big problem: she's completely blind. You decided to help her: she has a special smartphone for blind people, and you are going to develop a mobile phone app that can do _machine vision_ using the mobile camera: converting a picture (from the camera) to the meaning of the image. You decide to start with an app that can read handwritten digits, i.e. convert an image of handwritten digits to text (e.g. it would enable her to read precious handwritten phone numbers).\n",
    "\n",
    "A key building block for such an app would be a function `predict_digit(x)` that returns the digit class of an image patch $\\bx$. Since hand-coding this function is highly non-trivial, you decide to solve this problem using machine learning, such that the internal parameters of this function are automatically learned using machine learning techniques.\n",
    "\n",
    "The dataset you're going to use for this is the MNIST handwritten digits dataset (`http://yann.lecun.com/exdb/mnist/`). You can download the data with scikit learn, and load it as follows:"
   ]
  },
  {
   "cell_type": "code",
   "execution_count": 3,
   "metadata": {
    "collapsed": true,
    "deletable": false,
    "editable": false,
    "nbgrader": {
     "checksum": "b82a7c9aec1e9157526d4fbe12f1d75d",
     "grade": false,
     "grade_id": "cell-bcdbc957165abae7",
     "locked": true,
     "schema_version": 1,
     "solution": false
    }
   },
   "outputs": [],
   "source": [
    "from sklearn.datasets import fetch_mldata\n",
    "# Fetch the data\n",
    "mnist = fetch_mldata('MNIST original')\n",
    "data, target = mnist.data, mnist.target.astype('int')\n",
    "# Shuffle\n",
    "indices = np.arange(len(data))\n",
    "np.random.seed(123)\n",
    "np.random.shuffle(indices)\n",
    "data, target = data[indices].astype('float32'), target[indices]\n",
    "\n",
    "# Normalize the data between 0.0 and 1.0:\n",
    "data /= 255. \n",
    "\n",
    "# Split\n",
    "x_train, x_valid, x_test = data[:50000], data[50000:60000], data[60000: 70000]\n",
    "t_train, t_valid, t_test = target[:50000], target[50000:60000], target[60000: 70000]"
   ]
  },
  {
   "cell_type": "code",
   "execution_count": 4,
   "metadata": {},
   "outputs": [
    {
     "name": "stdout",
     "output_type": "stream",
     "text": [
      "(50000, 784)\n"
     ]
    }
   ],
   "source": [
    "print(x_train.shape)"
   ]
  },
  {
   "cell_type": "markdown",
   "metadata": {
    "deletable": false,
    "editable": false,
    "nbgrader": {
     "checksum": "5b20138af0810741223d2c2ddc82bf0f",
     "grade": false,
     "grade_id": "cell-b7b4a5a96dccf229",
     "locked": true,
     "schema_version": 1,
     "solution": false
    }
   },
   "source": [
    "MNIST consists of small 28 by 28 pixel images of written digits (0-9). We split the dataset into a training, validation and testing arrays. The variables `x_train`, `x_valid` and `x_test` are $N \\times M$ matrices, where $N$ is the number of datapoints in the respective set, and $M = 28^2 = 784$ is the dimensionality of the data. The second set of variables `t_train`, `t_valid` and `t_test` contain the corresponding $N$-dimensional vector of integers, containing the true class labels.\n",
    "\n",
    "Here's a visualisation of the first 8 digits of the trainingset:"
   ]
  },
  {
   "cell_type": "code",
   "execution_count": 5,
   "metadata": {
    "deletable": false,
    "editable": false,
    "nbgrader": {
     "checksum": "40e1628ec56b6d664edf9aaf496ea637",
     "grade": false,
     "grade_id": "cell-48a92c0a2a2bf4dd",
     "locked": true,
     "schema_version": 1,
     "solution": false
    }
   },
   "outputs": [
    {
     "data": {
      "image/png": "[encoded data removed]",
      "text/plain": [
       "<matplotlib.figure.Figure at 0xacb17dac>"
      ]
     },
     "metadata": {},
     "output_type": "display_data"
    }
   ],
   "source": [
    "def plot_digits(data, num_cols, targets=None, shape=(28,28)):\n",
    "    num_digits = data.shape[0]\n",
    "    num_rows = int(num_digits/num_cols)\n",
    "    for i in range(num_digits):\n",
    "        plt.subplot(num_rows, num_cols, i+1)\n",
    "        plt.imshow(data[i].reshape(shape), interpolation='none', cmap='Greys')\n",
    "        if targets is not None:\n",
    "            plt.title(int(targets[i]))\n",
    "        plt.colorbar()\n",
    "        plt.axis('off')\n",
    "    plt.tight_layout()\n",
    "    plt.show()\n",
    "    \n",
    "plot_digits(x_train[0:40000:5000], num_cols=4, targets=t_train[0:40000:5000])"
   ]
  },
  {
   "cell_type": "markdown",
   "metadata": {
    "deletable": false,
    "editable": false,
    "nbgrader": {
     "checksum": "9908b1f7669980cd126946bf7983c096",
     "grade": false,
     "grade_id": "cell-3eb664a58e03bf42",
     "locked": true,
     "schema_version": 1,
     "solution": false
    }
   },
   "source": [
    "In _multiclass_ logistic regression, the conditional probability of class label $j$ given the image $\\bx$ for some datapoint is given by:\n",
    "\n",
    "$ \\log p(t = j \\;|\\; \\bx, \\bb, \\bW) = \\log q_j - \\log Z$\n",
    "\n",
    "where $\\log q_j = \\bw_j^T \\bx + b_j$ (the log of the unnormalized probability of the class $j$), and $Z = \\sum_k q_k$ is the normalizing factor. $\\bw_j$ is the $j$-th column of $\\bW$ (a matrix of size $784 \\times 10$) corresponding to the class label, $b_j$ is the $j$-th element of $\\bb$.\n",
    "\n",
    "Given an input image, the multiclass logistic regression model first computes the intermediate vector $\\log \\bq$ (of size $10 \\times 1$), using $\\log q_j = \\bw_j^T \\bx + b_j$, containing the unnormalized log-probabilities per class. \n",
    "\n",
    "The unnormalized probabilities are then normalized by $Z$ such that $\\sum_j p_j = \\sum_j \\exp(\\log p_j) = 1$. This is done by $\\log p_j = \\log q_j - \\log Z$ where $Z = \\sum_i \\exp(\\log q_i)$. This is known as the _softmax_ transformation, and is also used as a last layer of many classifcation neural network models, to ensure that the output of the network is a normalized distribution, regardless of the values of second-to-last layer ($\\log \\bq$)\n",
    "\n",
    "**Warning**: when computing $\\log Z$, you are likely to encounter numerical problems. Save yourself countless hours of debugging and learn the [log-sum-exp trick](https://hips.seas.harvard.edu/blog/2013/01/09/computing-log-sum-exp/ \"Title\").\n",
    "\n",
    "The network's output $\\log \\bp$ of size $10 \\times 1$ then contains the conditional log-probabilities $\\log p(t = j \\;|\\; \\bx, \\bb, \\bW)$ for each digit class $j$. In summary, the computations are done in this order:\n",
    "\n",
    "$\\bx \\rightarrow \\log \\bq \\rightarrow Z \\rightarrow \\log \\bp$\n",
    "\n",
    "Given some dataset with $N$ independent, identically distributed datapoints, the log-likelihood is given by:\n",
    "\n",
    "$ \\mathcal{L}(\\bb, \\bW) = \\sum_{n=1}^N \\mathcal{L}^{(n)}$\n",
    "\n",
    "where we use $\\mathcal{L}^{(n)}$ to denote the partial log-likelihood evaluated over a single datapoint. It is important to see that the log-probability of the class label $t^{(n)}$ given the image, is given by the $t^{(n)}$-th element of the network's output $\\log \\bp$, denoted by $\\log p_{t^{(n)}}$:\n",
    "\n",
    "$\\mathcal{L}^{(n)} = \\log p(t = t^{(n)} \\;|\\; \\bx = \\bx^{(n)}, \\bb, \\bW) = \\log p_{t^{(n)}} = \\log q_{t^{(n)}} - \\log Z^{(n)}$\n",
    "\n",
    "where $\\bx^{(n)}$ and $t^{(n)}$ are the input (image) and class label (integer) of the $n$-th datapoint, and $Z^{(n)}$ is the normalizing constant for the distribution over $t^{(n)}$.\n"
   ]
  },
  {
   "cell_type": "markdown",
   "metadata": {
    "deletable": false,
    "editable": false,
    "nbgrader": {
     "checksum": "dfb50b2b2d11a7b8d1fe9bf5e9586442",
     "grade": false,
     "grade_id": "cell-17766ee789f11384",
     "locked": true,
     "schema_version": 1,
     "solution": false
    }
   },
   "source": [
    "## 1.1 Gradient-based stochastic optimization\n",
    "### 1.1.1 Derive gradient equations (20 points)\n",
    "\n",
    "Derive the equations for computing the (first) partial derivatives of the log-likelihood w.r.t. all the parameters, evaluated at a _single_ datapoint $n$.\n",
    "\n",
    "You should start deriving the equations for $\\frac{\\partial \\mathcal{L}^{(n)}}{\\partial \\log q_j}$ for each $j$. For clarity, we'll use the shorthand $\\delta^q_j = \\frac{\\partial \\mathcal{L}^{(n)}}{\\partial \\log q_j}$.\n",
    "\n",
    "For $j = t^{(n)}$:\n",
    "$\n",
    "\\delta^q_j\n",
    "= \\frac{\\partial \\mathcal{L}^{(n)}}{\\partial \\log p_j}\n",
    "\\frac{\\partial \\log p_j}{\\partial \\log q_j}\n",
    "+ \\frac{\\partial \\mathcal{L}^{(n)}}{\\partial \\log Z}\n",
    "\\frac{\\partial \\log Z}{\\partial Z} \n",
    "\\frac{\\partial Z}{\\partial \\log q_j} \n",
    "= 1 \\cdot 1 - \\frac{\\partial \\log Z}{\\partial Z} \n",
    "\\frac{\\partial Z}{\\partial \\log q_j}\n",
    "= 1 - \\frac{\\partial \\log Z}{\\partial Z} \n",
    "\\frac{\\partial Z}{\\partial \\log q_j}\n",
    "$\n",
    "\n",
    "For $j \\neq t^{(n)}$:\n",
    "$\n",
    "\\delta^q_j\n",
    "= \\frac{\\partial \\mathcal{L}^{(n)}}{\\partial \\log Z}\n",
    "\\frac{\\partial \\log Z}{\\partial Z} \n",
    "\\frac{\\partial Z}{\\partial \\log q_j} \n",
    "= - \\frac{\\partial \\log Z}{\\partial Z} \n",
    "\\frac{\\partial Z}{\\partial \\log q_j}\n",
    "$\n",
    "\n",
    "Complete the above derivations for $\\delta^q_j$ by furtherly developing $\\frac{\\partial \\log Z}{\\partial Z}$ and $\\frac{\\partial Z}{\\partial \\log q_j}$. Both are quite simple. For these it doesn't matter whether $j = t^{(n)}$ or not.\n",
    "\n"
   ]
  },
  {
   "cell_type": "markdown",
   "metadata": {
    "deletable": false,
    "nbgrader": {
     "checksum": "f394ea0423ed2b17c80bbe8f1193cc81",
     "grade": true,
     "grade_id": "cell-e40110444a1e1d3f",
     "locked": false,
     "points": 10,
     "schema_version": 1,
     "solution": true
    }
   },
   "source": [
    "For $j = t^{(n)}$:\n",
    "\\begin{align}\n",
    "\\delta^q_j\n",
    "&= 1 - \\frac{\\partial \\log Z}{\\partial Z} \n",
    "\\frac{\\partial Z}{\\partial \\log q_j}\\\\\n",
    "&= 1-\\frac{\\partial \\log Z}{\\partial Z}\\frac{\\partial \\sum_{i}exp(log(q_{i}))}{\\partial log(q_{j})}\\\\\n",
    "&= 1-\\frac{1}{Z}exp(log(q_{j}))\\\\\n",
    "\\delta^q_j &= 1-\\frac{1}{Z}exp(w_{j}^{T}x+b_{j})\n",
    "\\end{align}\n",
    "For $j \\neq t^{(n)}$:\n",
    "\\begin{align}\n",
    "\\delta^q_j\n",
    "&= - \\frac{\\partial \\log Z}{\\partial Z} \n",
    "\\frac{\\partial Z}{\\partial \\log q_j}\\\\\n",
    "&= -\\frac{\\partial \\log Z}{\\partial Z}\\frac{\\partial \\sum_{i}exp(log(q_{i}))}{\\partial log(q_{j})}\\\\\n",
    "&= -\\frac{1}{Z}exp(log(q_{j}))\\\\\n",
    "\\delta^q_j &= -\\frac{1}{Z}exp(w_{j}^{T}x+b_{j})\n",
    "\\end{align}\n"
   ]
  },
  {
   "cell_type": "markdown",
   "metadata": {
    "deletable": false,
    "editable": false,
    "nbgrader": {
     "checksum": "d46c028e9830445397d7b2275815990d",
     "grade": false,
     "grade_id": "cell-c770cfe1389ca4ff",
     "locked": true,
     "schema_version": 1,
     "solution": false
    }
   },
   "source": [
    "Given your equations for computing the gradients $\\delta^q_j$ it should be quite straightforward to derive the equations for the gradients of the parameters of the model, $\\frac{\\partial \\mathcal{L}^{(n)}}{\\partial W_{ij}}$ and $\\frac{\\partial \\mathcal{L}^{(n)}}{\\partial b_j}$. The gradients for the biases $\\bb$ are given by:\n",
    "\n",
    "$\n",
    "\\frac{\\partial \\mathcal{L}^{(n)}}{\\partial b_j}\n",
    "= \\frac{\\partial \\mathcal{L}^{(n)}}{\\partial \\log q_j}\n",
    "\\frac{\\partial \\log q_j}{\\partial b_j}\n",
    "= \\delta^q_j\n",
    "\\cdot 1\n",
    "= \\delta^q_j\n",
    "$\n",
    "\n",
    "The equation above gives the derivative of $\\mathcal{L}^{(n)}$ w.r.t. a single element of $\\bb$, so the vector $\\nabla_\\bb \\mathcal{L}^{(n)}$ with all derivatives of $\\mathcal{L}^{(n)}$ w.r.t. the bias parameters $\\bb$ is: \n",
    "\n",
    "$\n",
    "\\nabla_\\bb \\mathcal{L}^{(n)} = \\mathbf{\\delta}^q\n",
    "$\n",
    "\n",
    "where $\\mathbf{\\delta}^q$ denotes the vector of size $10 \\times 1$ with elements $\\mathbf{\\delta}_j^q$.\n",
    "\n",
    "The (not fully developed) equation for computing the derivative of $\\mathcal{L}^{(n)}$ w.r.t. a single element $W_{ij}$ of $\\bW$ is:\n",
    "\n",
    "$\n",
    "\\frac{\\partial \\mathcal{L}^{(n)}}{\\partial W_{ij}} =\n",
    "\\frac{\\partial \\mathcal{L}^{(n)}}{\\partial \\log q_j}\n",
    "\\frac{\\partial \\log q_j}{\\partial W_{ij}}\n",
    "= \\mathbf{\\delta}_j^q\n",
    "\\frac{\\partial \\log q_j}{\\partial W_{ij}}\n",
    "$\n",
    "\n",
    "What is $\\frac{\\partial \\log q_j}{\\partial W_{ij}}$? Complete the equation above.\n",
    "\n",
    "If you want, you can give the resulting equation in vector format ($\\nabla_{\\bw_j} \\mathcal{L}^{(n)} = ...$), like we did for $\\nabla_\\bb \\mathcal{L}^{(n)}$."
   ]
  },
  {
   "cell_type": "markdown",
   "metadata": {
    "deletable": false,
    "nbgrader": {
     "checksum": "70fc98e5b227736e2bb92964a3c7174d",
     "grade": true,
     "grade_id": "cell-e40110444a1asdfasdfd3f",
     "locked": false,
     "points": 10,
     "schema_version": 1,
     "solution": true
    }
   },
   "source": [
    "\\begin{equation}\n",
    "\\frac{\\partial \\mathcal{L}^{(n)}}{\\partial W_{ij}} =\n",
    "\\frac{\\partial \\mathcal{L}^{(n)}}{\\partial \\log q_j}\n",
    "\\frac{\\partial \\log q_j}{\\partial W_{ij}}\n",
    "= \\mathbf{\\delta}_j^q\n",
    "\\frac{\\partial \\log q_j}{\\partial W_{ij}}\\\\\n",
    "\\end{equation}\n",
    "\n",
    "We can write $\\frac{\\partial \\log q_j}{\\partial W_{ij}}$ as :\n",
    "\\begin{equation}\n",
    "\\frac{\\partial \\log q_j}{\\partial W_{ij}}=\\frac{\\partial (\\textbf{w}_{j}^T\\textbf{x} + b_{j})}{\\partial W_{ij}}\n",
    "\\end{equation}\n",
    "\n",
    "Here $\\textbf{x}$ is a column vector of size(M,1) (M is the feature dimension), $\\textbf{w}_j$ is the j$^{th}$ column vector of $\\textbf{W}$.\n",
    "\n",
    "\\begin{equation}\n",
    "\\textbf{w}_{j}^T\\textbf{x} + b_{j}= \\sum_{i=1}^{M}w_{ij}x_{i} +b_{j}\\\\\n",
    "\\frac{\\partial (\\textbf{w}_{j}^T\\textbf{x} + b_{j})}{\\partial W_{ij}}=\\frac{\\partial (\\sum_{i=1}^{M}w_{ij}x_{i} +b_{j})}{{\\partial W_{ij}}}\\\\\n",
    "\\frac{\\partial (\\textbf{w}_{j}^T\\textbf{x} + b_{j})}{\\partial W_{ij}}=x_{i}\n",
    "\\end{equation}\n",
    "\n",
    "We can write $\\frac{\\partial \\mathcal{L}^{(n)}}{\\partial W_{ij}}$ as:\n",
    "\\begin{equation}\n",
    "\\frac{\\partial \\mathcal{L}^{(n)}}{\\partial W_{ij}}=\\mathbf{\\delta}_j^q x_{i}\n",
    "\\end{equation}\n",
    "$\n",
    "\\frac{\\partial \\mathcal{L}^{(n)}}{\\partial \\textbf{w}_{j}} = \\bigg(\\frac{\\partial \\mathcal{L}^{(n)}}{\\partial w_{1j}},\\frac{\\partial \\mathcal{L}^{(n)}}{\\partial w_{2j}}  ,......, \\frac{\\partial \\mathcal{L}^{(n)}}{\\partial w_{Mj}}\\bigg)\\\\\n",
    "$\n",
    "\\begin{equation}\n",
    "\\nabla_{\\bw_{j}} \\mathcal{L}^{(n)}=\\bigg(\\frac{\\partial \\mathcal{L}^{(n)}}{\\partial w_{1j}},\\frac{\\partial \\mathcal{L}^{(n)}}{\\partial w_{2j}}  ,......, \\frac{\\partial \\mathcal{L}^{(n)}}{\\partial w_{Mj}}\\bigg)^T\\\\\n",
    "\\end{equation}"
   ]
  },
  {
   "cell_type": "markdown",
   "metadata": {
    "deletable": false,
    "editable": false,
    "nbgrader": {
     "checksum": "99387b4094640d8cd71bfd15687abc31",
     "grade": false,
     "grade_id": "cell-b0f28b0924b9983d",
     "locked": true,
     "schema_version": 1,
     "solution": false
    }
   },
   "source": [
    "### 1.1.2 Implement gradient computations (10 points)\n",
    "\n",
    "Implement the gradient calculations you derived in the previous question. Write a function `logreg_gradient(x, t, w, b)` that returns the gradients $\\nabla_{\\bw_j} \\mathcal{L}^{(n)}$ (for each $j$) and $\\nabla_{\\bb} \\mathcal{L}^{(n)}$, i.e. the first partial derivatives of the log-likelihood w.r.t. the parameters $\\bW$ and $\\bb$, evaluated at a single datapoint (`x`, `t`).\n",
    "The computation will contain roughly the following intermediate variables:\n",
    "\n",
    "$\n",
    "\\log \\bq \\rightarrow Z \\rightarrow \\log \\bp\\,,\\, \\mathbf{\\delta}^q\n",
    "$\n",
    "\n",
    "followed by computation of the gradient vectors $\\nabla_{\\bw_j} \\mathcal{L}^{(n)}$ (contained in a $784 \\times 10$ matrix) and $\\nabla_{\\bb} \\mathcal{L}^{(n)}$ (a $10 \\times 1$ vector).\n",
    "\n",
    "For maximum points, ensure the function is numerically stable.\n"
   ]
  },
  {
   "cell_type": "code",
   "execution_count": 6,
   "metadata": {
    "collapsed": true,
    "deletable": false,
    "nbgrader": {
     "checksum": "46b3dd32a8837896ac75063695c150f8",
     "grade": false,
     "grade_id": "cell-6858f885be587480",
     "locked": false,
     "schema_version": 1,
     "solution": true
    }
   },
   "outputs": [],
   "source": [
    "# 1.1.2 Compute gradient of log p(t|x;w,b) wrt w and b\n",
    "def logsmexp(ns):#calculate log-sum-exponential\n",
    "    max_ = np.max(ns)\n",
    "    ds = ns-max_\n",
    "    sumOfexp = np.exp(ds).sum()\n",
    "#     print(max_+np.log(sumOfexp))\n",
    "    return max_+np.log(sumOfexp)\n",
    "\n",
    "def cal_delta(logq,t,logZ):\n",
    "    delta = -exp(logq)/exp(logZ)\n",
    "    delta[t[0]] +=1\n",
    "        \n",
    "    return delta\n",
    "\n",
    "def cal_dw(x,delta):\n",
    "    dw=(np.tile(x,(10,1))).T\n",
    "    return dw*(delta.T)\n",
    "\n",
    "def logreg_gradient(x, t, w, b):\n",
    "\n",
    "    #Try to maintain matrix dimesnion.Because python can be shit in such cases!! sometimes\n",
    "    b = np.reshape(b,(10,1))\n",
    "    logq= np.dot(x,w).T + b\n",
    "    logZ=logsmexp(logq)\n",
    "    #logp = lopq - logZ. Calculate it for each class. So this will be a vector of (10,1)\n",
    "    #here has been calculated for every j==tn \n",
    "    logp = logq-logZ\n",
    "    #take transpose of logp now size (1,10).transpose is taken just to take care of logp[:,t]\n",
    "    logp = np.transpose(logp)\n",
    "    \n",
    "\n",
    "    #Calculate delta use j=tn and j!=tn to get the delta vector\n",
    "    delta = cal_delta(logq,t,logZ)\n",
    "    dL_db = delta\n",
    "    dL_dw = cal_dw(x,delta)\n",
    "    \n",
    "    return logp[:,t].squeeze(), dL_dw, dL_db.squeeze()\n",
    "\n",
    "\n",
    "# np.random.seed(123)\n",
    "# # scalar, 10 X 768  matrix, 10 X 1 vector\n",
    "# w = np.random.normal(size=(28*28,10), scale=0.001)\n",
    "# # w = np.zeros((784,10))\n",
    "# b = np.zeros((10,1))\n",
    "\n",
    "# # test gradients, train on 1 sample\n",
    "# logpt, grad_w, grad_b = logreg_gradient(x_train[0:1,:], t_train[0:1], w, b)\n",
    "# print(logpt.shape)"
   ]
  },
  {
   "cell_type": "code",
   "execution_count": 7,
   "metadata": {
    "deletable": false,
    "editable": false,
    "nbgrader": {
     "checksum": "bcebc974c2a0ac928c9f0381e7e86eec",
     "grade": true,
     "grade_id": "cell-1c9659f607b151a2",
     "locked": true,
     "points": 4,
     "schema_version": 1,
     "solution": false
    }
   },
   "outputs": [
    {
     "name": "stdout",
     "output_type": "stream",
     "text": [
      "Test gradient on one point\n",
      "Likelihood:\t -2.2959726720744777\n",
      "\n",
      "Grad_W_ij\t (784, 10) matrix\n",
      "Grad_W_ij[0,152:158]=\t [-0.04518971 -0.06758809 -0.07819784 -0.09077237 -0.07584012 -0.06365855]\n",
      "\n",
      "Grad_B_i shape\t (10,) vector\n",
      "Grad_B_i=\t [-0.10020327 -0.09977827 -0.1003198   0.89933657 -0.10037941 -0.10072863\n",
      " -0.09982729 -0.09928672 -0.09949324 -0.09931994]\n",
      "i in {0,...,9}; j in M\n"
     ]
    }
   ],
   "source": [
    "np.random.seed(123)\n",
    "# scalar, 10 X 768  matrix, 10 X 1 vector\n",
    "w = np.random.normal(size=(28*28,10), scale=0.001)\n",
    "# w = np.zeros((784,10))\n",
    "b = np.zeros((10,))\n",
    "\n",
    "# test gradients, train on 1 sample\n",
    "logpt, grad_w, grad_b = logreg_gradient(x_train[0:1,:], t_train[0:1], w, b)\n",
    "\n",
    "print(\"Test gradient on one point\")\n",
    "print(\"Likelihood:\\t\", logpt)\n",
    "print(\"\\nGrad_W_ij\\t\",grad_w.shape,\"matrix\")\n",
    "print(\"Grad_W_ij[0,152:158]=\\t\", grad_w[152:158,0])\n",
    "print(\"\\nGrad_B_i shape\\t\",grad_b.shape,\"vector\")\n",
    "print(\"Grad_B_i=\\t\", grad_b.T)\n",
    "print(\"i in {0,...,9}; j in M\")\n",
    "\n",
    "assert logpt.shape == (), logpt.shape\n",
    "assert grad_w.shape == (784, 10), grad_w.shape\n",
    "assert grad_b.shape == (10,), grad_b.shape\n",
    "\n",
    "\n"
   ]
  },
  {
   "cell_type": "code",
   "execution_count": 8,
   "metadata": {
    "deletable": false,
    "editable": false,
    "nbgrader": {
     "checksum": "72121207fa6163adf16cb3381ddde510",
     "grade": true,
     "grade_id": "cell-fd59c3a03a87ab83",
     "locked": true,
     "points": 4,
     "schema_version": 1,
     "solution": false
    }
   },
   "outputs": [
    {
     "name": "stdout",
     "output_type": "stream",
     "text": [
      "Finite difference error grad_w: 7.50209703432e-07\n",
      "Finite difference error grad_b: 6.58585317291e-08\n"
     ]
    }
   ],
   "source": [
    "# It's always good to check your gradient implementations with finite difference checking:\n",
    "# Scipy provides the check_grad function, which requires flat input variables.\n",
    "# So we write two helper functions that provide can compute the gradient and output with 'flat' weights:\n",
    "from scipy.optimize import check_grad\n",
    "\n",
    "np.random.seed(123)\n",
    "# scalar, 10 X 768  matrix, 10 X 1 vector\n",
    "w = np.random.normal(size=(28*28,10), scale=0.001)\n",
    "# w = np.zeros((784,10))\n",
    "b = np.zeros((10,))\n",
    "\n",
    "def func(w):\n",
    "    logpt, grad_w, grad_b = logreg_gradient(x_train[0:1,:], t_train[0:1], w.reshape(784,10), b)\n",
    "    return logpt\n",
    "def grad(w):\n",
    "    logpt, grad_w, grad_b = logreg_gradient(x_train[0:1,:], t_train[0:1], w.reshape(784,10), b)\n",
    "    return grad_w.flatten()\n",
    "finite_diff_error = check_grad(func, grad, w.flatten())\n",
    "print('Finite difference error grad_w:', finite_diff_error)\n",
    "assert finite_diff_error < 1e-3, 'Your gradient computation for w seems off'\n",
    "\n",
    "def func(b):\n",
    "    logpt, grad_w, grad_b = logreg_gradient(x_train[0:1,:], t_train[0:1], w, b)\n",
    "    return logpt\n",
    "def grad(b):\n",
    "    logpt, grad_w, grad_b = logreg_gradient(x_train[0:1,:], t_train[0:1], w, b)\n",
    "    return grad_b.flatten()\n",
    "finite_diff_error = check_grad(func, grad, b)\n",
    "print('Finite difference error grad_b:', finite_diff_error)\n",
    "assert finite_diff_error < 1e-3, 'Your gradient computation for b seems off'\n",
    "\n"
   ]
  },
  {
   "cell_type": "code",
   "execution_count": null,
   "metadata": {
    "collapsed": true,
    "deletable": false,
    "editable": false,
    "nbgrader": {
     "checksum": "82f98bef86ddcf7387f50651a739b189",
     "grade": true,
     "grade_id": "cell-91b8c5eb86f6a0f3",
     "locked": true,
     "points": 2,
     "schema_version": 1,
     "solution": false
    }
   },
   "outputs": [],
   "source": []
  },
  {
   "cell_type": "markdown",
   "metadata": {
    "deletable": false,
    "editable": false,
    "nbgrader": {
     "checksum": "1aedefd481635db2e213dacbca5959d4",
     "grade": false,
     "grade_id": "cell-bdce061b39aaacec",
     "locked": true,
     "schema_version": 1,
     "solution": false
    }
   },
   "source": [
    "\n",
    "### 1.1.3 Stochastic gradient descent (10 points)\n",
    "\n",
    "Write a function `sgd_iter(x_train, t_train, w, b)` that performs one iteration of stochastic gradient descent (SGD), and returns the new weights. It should go through the trainingset once in randomized order, call `logreg_gradient(x, t, w, b)` for each datapoint to get the gradients, and update the parameters **using a small learning rate of `1E-6`**. Note that in this case we're maximizing the likelihood function, so we should actually performing gradient ___ascent___... For more information about SGD, see Bishop 5.2.4 or an online source (i.e. https://en.wikipedia.org/wiki/Stochastic_gradient_descent)"
   ]
  },
  {
   "cell_type": "code",
   "execution_count": 9,
   "metadata": {
    "collapsed": true,
    "deletable": false,
    "nbgrader": {
     "checksum": "a1fd10093bd350a24e4a718bc0133738",
     "grade": true,
     "grade_id": "cell-86bf84658f1c5bc8",
     "locked": false,
     "points": 5,
     "schema_version": 1,
     "solution": true
    }
   },
   "outputs": [],
   "source": [
    "def lgsum(ns): #here ns is some mxn matrix\n",
    "    max_ = np.max(ns,axis=0,keepdims=True)\n",
    "    ds = ns-max_\n",
    "    allexp = np.exp(ds)\n",
    "    smexp =np.sum(allexp,axis=0,keepdims=True)\n",
    "    return max_+np.log(smexp)\n",
    "\n",
    "def log_probability(x_train,t_train,l_w,l_b):\n",
    "    l_b=np.reshape(l_b,(10,1))\n",
    "    logq = np.dot(x_train,l_w).T+l_b\n",
    "    logZ = lgsum(logq)\n",
    "    lgp= logq-logZ\n",
    "#     print(lgp.shape)\n",
    "#     print(lgp,t_train)\n",
    "    c_lgp=[lgp[t_train[i]][i] for i in range(0,len(t_train))]\n",
    "    c_sm = np.sum(np.array(c_lgp))\n",
    "    logp_train=c_sm/len(t_train)\n",
    "#     print(logp_train)\n",
    "    return logp_train\n",
    "\n",
    "\n",
    "def sgd_iter(x_train, t_train, w, b):\n",
    "\n",
    "    learning_rate=10**(-4)\n",
    "    cost=0\n",
    "    random_indices = np.arange(0,(x_train.shape[0]))\n",
    "    np.random.shuffle(random_indices)\n",
    "    for i in random_indices:\n",
    "\n",
    "        logpt, grad_w, grad_b = logreg_gradient(x_train[i:i+1,:], t_train[i:i+1], w, b)\n",
    "#         print(\"jdsdkj\",logpt)\n",
    "        w = w + learning_rate*grad_w\n",
    "        b = b + learning_rate*grad_b\n",
    "        \n",
    "    logp_train=log_probability(x_train, t_train, w, b)    \n",
    "\n",
    "    return logp_train, w, b\n",
    "\n",
    "np.random.seed(1243)\n",
    "w = np.zeros((28*28, 10))\n",
    "b = np.zeros(10)\n",
    "    \n",
    "logp_train, W, b = sgd_iter(x_train[:2], t_train[:2], w, b)"
   ]
  },
  {
   "cell_type": "code",
   "execution_count": 63,
   "metadata": {
    "collapsed": true,
    "deletable": false,
    "editable": false,
    "nbgrader": {
     "checksum": "f4eb4ba6aee968be7e896cb4ef74e745",
     "grade": true,
     "grade_id": "cell-2f7bbc264cc887a0",
     "locked": true,
     "points": 5,
     "schema_version": 1,
     "solution": false
    }
   },
   "outputs": [],
   "source": [
    "# Sanity check:\n",
    "np.random.seed(1243)\n",
    "w = np.zeros((28*28, 10))\n",
    "b = np.zeros(10)\n",
    "    \n",
    "logp_train, W, b = sgd_iter(x_train[:5], t_train[:5], w, b)\n"
   ]
  },
  {
   "cell_type": "markdown",
   "metadata": {
    "deletable": false,
    "editable": false,
    "nbgrader": {
     "checksum": "32ce2e1e1bc8ee7c2ed647ea65c6f943",
     "grade": false,
     "grade_id": "cell-81634c804e1f93fc",
     "locked": true,
     "schema_version": 1,
     "solution": false
    }
   },
   "source": [
    "## 1.2. Train\n",
    "\n",
    "### 1.2.1 Train (10 points)\n",
    "Perform 10 SGD iterations through the trainingset. Plot (in one graph) the conditional log-probability of the trainingset and validation set after each iteration.\n"
   ]
  },
  {
   "cell_type": "code",
   "execution_count": 64,
   "metadata": {
    "deletable": false,
    "nbgrader": {
     "checksum": "02d6fffcf7065691be87ea236459d3e1",
     "grade": true,
     "grade_id": "cell-20a347ba4db6e82c",
     "locked": false,
     "points": 10,
     "schema_version": 1,
     "solution": true
    }
   },
   "outputs": [
    {
     "name": "stdout",
     "output_type": "stream",
     "text": [
      "0\n",
      "1\n",
      "2\n",
      "3\n",
      "4\n",
      "5\n",
      "6\n",
      "7\n",
      "8\n",
      "9\n",
      "<zip object at 0xa74d6e2c>\n"
     ]
    }
   ],
   "source": [
    "#Have added one more term in return statement\n",
    "def test_sgd(x_train, t_train, w, b):\n",
    "    \n",
    "    log_probability_train=[]\n",
    "    log_probability_validate=[]\n",
    "    for i in range(0,10):\n",
    "        print(i)\n",
    "        logp_train, w, b =  sgd_iter(x_train, t_train, w, b)\n",
    "        logp_validate = log_probability(x_valid,t_valid,w,b)\n",
    "\n",
    "        log_probability_train.append(logp_train)\n",
    "        log_probability_validate.append(logp_validate)\n",
    "    loggp_train_val = zip(log_probability_train,log_probability_validate)\n",
    "    return loggp_train_val,w,b\n",
    "\n",
    "\n",
    "np.random.seed(1243)\n",
    "w = np.zeros((28*28, 10))\n",
    "b = np.zeros(10)\n",
    "cost, w,b = test_sgd(x_train, t_train, w, b)\n",
    "print(cost)\n",
    "# validate_(x_valid[:5],t_valid[:5],w,b)"
   ]
  },
  {
   "cell_type": "code",
   "execution_count": 65,
   "metadata": {},
   "outputs": [
    {
     "data": {
      "image/png": "[encoded data removed]",
      "text/plain": [
       "<matplotlib.figure.Figure at 0xa74d6f4c>"
      ]
     },
     "metadata": {},
     "output_type": "display_data"
    }
   ],
   "source": [
    "import matplotlib.patches as mpatches\n",
    "log_train, log_validate =  zip(*cost)\n",
    "plt.plot(range(0,10),log_train,'ro-')\n",
    "plt.plot(range(0,10),log_validate,'bo-')\n",
    "blue = mpatches.Patch(color='blue', label='log_prob_valid')\n",
    "red = mpatches.Patch(color='red', label='log_prob_train')\n",
    "\n",
    "plt.legend(handles=[blue,red],fontsize=15)\n",
    "plt.ylabel('log_prob',fontsize=15)\n",
    "plt.xlabel(\"Number of iterations\",fontsize=15)\n",
    "plt.title(\"log-likelihood, learning rate 10e(-4) \",fontsize=15)\n",
    "plt.show()\n",
    "\n",
    "\n"
   ]
  },
  {
   "cell_type": "markdown",
   "metadata": {
    "deletable": false,
    "editable": false,
    "nbgrader": {
     "checksum": "a6d85bbd97cad35d524b65b23f64e75f",
     "grade": false,
     "grade_id": "cell-cf7f3da57d19493a",
     "locked": true,
     "schema_version": 1,
     "solution": false
    }
   },
   "source": [
    "### 1.2.2 Visualize weights (10 points)\n",
    "Visualize the resulting parameters $\\bW$ after a few iterations through the training set, by treating each column of $\\bW$ as an image. If you want, you can use or edit the `plot_digits(...)` above.\n"
   ]
  },
  {
   "cell_type": "code",
   "execution_count": 54,
   "metadata": {
    "deletable": false,
    "nbgrader": {
     "checksum": "4e554436500eebe1527a31039570a264",
     "grade": true,
     "grade_id": "cell-b10656f35fac065e",
     "locked": false,
     "points": 5,
     "schema_version": 1,
     "solution": true
    }
   },
   "outputs": [
    {
     "name": "stdout",
     "output_type": "stream",
     "text": [
      "(10, 784)\n"
     ]
    },
    {
     "data": {
      "image/png": "[encoded data removed]",
      "text/plain": [
       "<matplotlib.figure.Figure at 0xa79c79cc>"
      ]
     },
     "metadata": {},
     "output_type": "display_data"
    }
   ],
   "source": [
    "def plot_digits(data, num_cols, targets=None, shape=(28,28)):\n",
    "    data = np.transpose(data)\n",
    "    print(data.shape)\n",
    "    num_digits = data.shape[0]\n",
    "    num_rows = int(num_digits/num_cols)\n",
    "    for i in range(num_digits):\n",
    "        plt.subplot(num_rows, num_cols, i+1)\n",
    "        plt.imshow(data[i].reshape(shape), interpolation='none', cmap='Greys')\n",
    "        if targets is not None:\n",
    "            plt.title(int(targets[i]))\n",
    "        plt.colorbar()\n",
    "        plt.axis('off')\n",
    "    plt.tight_layout()\n",
    "    plt.show()\n",
    "    \n",
    "#plot_digits1(x_train[0:40000:5000], num_cols=4, targets=t_train[0:40000:5000])\n",
    "plot_digits(w, num_cols=5)"
   ]
  },
  {
   "cell_type": "markdown",
   "metadata": {
    "deletable": false,
    "nbgrader": {
     "checksum": "de187afcf5ae1e34b80bc10610760e7a",
     "grade": true,
     "grade_id": "cell-eb131c8b7303da38",
     "locked": false,
     "points": 5,
     "schema_version": 1,
     "solution": true
    }
   },
   "source": [
    "**Describe in less than 100 words why these weights minimize the loss**\n",
    "YOUR ANSWER HERE"
   ]
  },
  {
   "cell_type": "markdown",
   "metadata": {
    "deletable": false,
    "editable": false,
    "nbgrader": {
     "checksum": "2bb485340ba8ee90a0d8cbc90fc7a7af",
     "grade": false,
     "grade_id": "cell-f36d974d9ef34c97",
     "locked": true,
     "schema_version": 1,
     "solution": false
    }
   },
   "source": [
    "### 1.2.3. Visualize the 8 hardest and 8 easiest digits (10 points)\n",
    "Visualize the 8 digits in the validation set with the highest probability of the true class label under the model.\n",
    "Also plot the 8 digits that were assigned the lowest probability.\n",
    "Ask yourself if these results make sense."
   ]
  },
  {
   "cell_type": "code",
   "execution_count": 69,
   "metadata": {
    "deletable": false,
    "nbgrader": {
     "checksum": "7fe3011f6f3ef6f6b00f58bb5dea7b76",
     "grade": true,
     "grade_id": "cell-3802d61680deeff5",
     "locked": false,
     "points": 10,
     "schema_version": 1,
     "solution": true
    }
   },
   "outputs": [
    {
     "name": "stdout",
     "output_type": "stream",
     "text": [
      "(10000, 784) (784, 10) (10,)\n",
      "here\n",
      "(10000,)\n",
      "(8, 784)\n",
      "Plotting true class lowest probability\n",
      "(8, 784)\n"
     ]
    },
    {
     "data": {
      "image/png": "[encoded data removed]",
      "text/plain": [
       "<matplotlib.figure.Figure at 0xa7aad66c>"
      ]
     },
     "metadata": {},
     "output_type": "display_data"
    },
    {
     "name": "stdout",
     "output_type": "stream",
     "text": [
      "Plotting true class highest probability\n",
      "(8, 784)\n"
     ]
    },
    {
     "data": {
      "image/png": "[encoded data removed]",
      "text/plain": [
       "<matplotlib.figure.Figure at 0xa6cc09ac>"
      ]
     },
     "metadata": {},
     "output_type": "display_data"
    }
   ],
   "source": [
    "-"
   ]
  },
  {
   "cell_type": "markdown",
   "metadata": {
    "deletable": false,
    "editable": false,
    "nbgrader": {
     "checksum": "8d3b971f8daced95f5020cfffcb89d02",
     "grade": false,
     "grade_id": "cell-2c525344c99e5b26",
     "locked": true,
     "schema_version": 1,
     "solution": false
    }
   },
   "source": [
    "# Part 2. Multilayer perceptron\n",
    "\n",
    "\n",
    "You discover that the predictions by the logistic regression classifier are not good enough for your application: the model is too simple. You want to increase the accuracy of your predictions by using a better model. For this purpose, you're going to use a multilayer perceptron (MLP), a simple kind of neural network. The perceptron wil have a single hidden layer $\\bh$ with $L$ elements. The parameters of the model are $\\bV$ (connections between input $\\bx$ and hidden layer $\\bh$), $\\ba$ (the biases/intercepts of $\\bh$), $\\bW$ (connections between $\\bh$ and $\\log q$) and $\\bb$ (the biases/intercepts of $\\log q$.\n",
    "\n",
    "The conditional probability of the class label $j$ is given by:\n",
    "\n",
    "$\\log p(t = j \\;|\\; \\bx, \\bb, \\bW) = \\log q_j - \\log Z$\n",
    "\n",
    "where $q_j$ are again the unnormalized probabilities per class, and $Z = \\sum_j q_j$ is again the probability normalizing factor. Each $q_j$ is computed using:\n",
    "\n",
    "$\\log q_j = \\bw_j^T \\bh + b_j$\n",
    "\n",
    "where $\\bh$ is a $L \\times 1$ vector with the hidden layer activations (of a hidden layer with size $L$), and $\\bw_j$ is the $j$-th column of $\\bW$ (a $L \\times 10$ matrix). Each element of the hidden layer is computed from the input vector $\\bx$ using:\n",
    "\n",
    "$h_j = \\sigma(\\bv_j^T \\bx + a_j)$\n",
    "\n",
    "where $\\bv_j$ is the $j$-th column of $\\bV$ (a $784 \\times L$ matrix), $a_j$ is the $j$-th element of $\\ba$, and $\\sigma(.)$ is the so-called sigmoid activation function, defined by:\n",
    "\n",
    "$\\sigma(x) = \\frac{1}{1 + \\exp(-x)}$\n",
    "\n",
    "Note that this model is almost equal to the multiclass logistic regression model, but with an extra 'hidden layer' $\\bh$. The activations of this hidden layer can be viewed as features computed from the input, where the feature transformation ($\\bV$ and $\\ba$) is learned.\n",
    "\n",
    "## 2.1 Derive gradient equations (20 points)\n",
    "\n",
    "State (shortly) why $\\nabla_{\\bb} \\mathcal{L}^{(n)}$ is equal to the earlier (multiclass logistic regression) case, and why $\\nabla_{\\bw_j} \\mathcal{L}^{(n)}$ is almost equal to the earlier case.\n",
    "\n",
    "Like in multiclass logistic regression, you should use intermediate variables $\\mathbf{\\delta}_j^q$. In addition, you should use intermediate variables $\\mathbf{\\delta}_j^h = \\frac{\\partial \\mathcal{L}^{(n)}}{\\partial h_j}$.\n",
    "\n",
    "Given an input image, roughly the following intermediate variables should be computed:\n",
    "\n",
    "$\n",
    "\\log \\bq \\rightarrow Z \\rightarrow \\log \\bp \\rightarrow \\mathbf{\\delta}^q \\rightarrow \\mathbf{\\delta}^h\n",
    "$\n",
    "\n",
    "where $\\mathbf{\\delta}_j^h = \\frac{\\partial \\mathcal{L}^{(n)}}{\\partial \\bh_j}$.\n",
    "\n",
    "Give the equations for computing $\\mathbf{\\delta}^h$, and for computing the derivatives of $\\mathcal{L}^{(n)}$ w.r.t. $\\bW$, $\\bb$, $\\bV$ and $\\ba$. \n",
    "\n",
    "You can use the convenient fact that $\\frac{\\partial}{\\partial x} \\sigma(x) = \\sigma(x) (1 - \\sigma(x))$."
   ]
  },
  {
   "cell_type": "markdown",
   "metadata": {
    "deletable": false,
    "nbgrader": {
     "checksum": "bb7ce29f01484f94a6357784ddaf6412",
     "grade": true,
     "grade_id": "cell-48f48bb8ec75cc3c",
     "locked": false,
     "points": 20,
     "schema_version": 1,
     "solution": true
    }
   },
   "source": [
    "Let's start with calculating $\\delta^q_j=\\frac{\\partial \\mathcal{L}^{(n)}}{\\partial \\log q_j}$\n",
    "\n",
    "$j = t^{(n)}$\n",
    "\\begin{align}\n",
    "\\delta^q_j &= \\frac{\\partial (\\log q_j -\\log Z)}{\\partial \\log q_j }\\\\\n",
    " &= \\frac{\\partial \\log q_j}{\\partial \\log q_j } -\\frac{\\partial \\log Z}{\\partial Z}\\frac{\\partial Z}{\\log q_j}\\\\\n",
    " &= 1-\\frac{1}{Z}\\frac{\\partial \\sum_{j}\\exp(\\log q_{j})}{\\partial \\log q_{j}}\\\\\n",
    " &= 1-\\frac{1}{Z} \\exp(\\log q_{j})\\\\\n",
    " &= 1-\\frac{1}{Z} \\exp(\\bw_j^T \\bh + b_j)\\\\\n",
    " \\end{align}\n",
    " $j \\neq t^{(n)}$\n",
    " \\begin{align}\n",
    " \\delta^q_j &= -\\frac{1}{Z}\\frac{\\partial \\sum_{j}\\exp(\\log q_{j})}{\\partial \\log q_{j}}\\\\\n",
    " &= -\\frac{1}{Z} \\exp(\\log q_{j})\\\\\n",
    " &= -\\frac{1}{Z} \\exp(\\bw_j^T \\bh + b_j)\\\\\n",
    " \\end{align}\n",
    " \n",
    "$ \n",
    "\\frac{\\partial \\mathcal{L}^{(n)}}{\\partial b_j}\n",
    "= \\frac{\\partial \\mathcal{L}^{(n)}}{\\partial \\log q_j}\n",
    "\\frac{\\partial \\log q_j}{\\partial b_j}\n",
    "= \\delta^q_j\n",
    "\\cdot 1\n",
    "= \\delta^q_j\\\\\n",
    "\\nabla_\\bb \\mathcal{L}^{(n)} = \\mathbf{\\delta}^q\n",
    "$\n",
    "\n",
    "Calculating $\\frac{\\mathcal{L}^{(n)}}{\\partial \\bw_{ij}}$\n",
    "\\begin{equation}\n",
    "\\frac{\\partial \\mathcal{L}^{(n)}}{\\partial\\bw_{ij}} =\n",
    "\\frac{\\partial \\mathcal{L}^{(n)}}{\\partial \\log q_j}\n",
    "\\frac{\\partial \\log q_j}{\\partial \\bw_{ij}}\n",
    "= \\mathbf{\\delta}_j^q\n",
    "\\frac{\\partial \\log q_j}{\\partial \\bw_{ij}}\\\\\n",
    "\\end{equation}\n",
    "We can write $\\frac{\\partial \\log q_j}{\\partial W_{ij}}$ as :\n",
    "\\begin{equation}\n",
    "\\frac{\\partial \\log q_j}{\\partial \\bw_{ij}}=\\frac{\\partial (\\bw_{j}^T \\bh + b_{j})}{\\partial \\bw_{ij}}\n",
    "\\end{equation}\n",
    "Here $\\textbf{h}$ is a column vector of size $(\\textbf{L},1)$ ($\\textbf{L}$ is no. of hidden units), $\\textbf{w}_j$ is the j$^{th}$ column vector of $\\textbf{W}$.\n",
    "\n",
    "\\begin{equation}\n",
    "\\textbf{w}_{j}^T\\textbf{x} + b_{j}= \\sum_{i=1}^{L}w_{ij}h_{i} +b_{j}\\\\\n",
    "\\frac{\\partial (\\textbf{w}_{j}^T\\textbf{h} + b_{j})}{\\partial w_{ij}}=\\frac{\\partial (\\sum_{i=1}^{M}w_{ij}h_{i} +b_{j})}{{\\partial w_{ij}}}\\\\\n",
    "\\frac{\\partial (\\textbf{w}_{j}^T\\textbf{h} + b_{j})}{\\partial w_{ij}}=h_{i}\n",
    "\\end{equation}\n",
    "\n",
    "We can write $\\frac{\\partial \\mathcal{L}^{(n)}}{\\partial W_{ij}}$ as:\n",
    "\\begin{equation}\n",
    "\\frac{\\partial \\mathcal{L}^{(n)}}{\\partial w_{ij}}=\\mathbf{\\delta}_j^q h_{i}\n",
    "\\end{equation}\n",
    "$\n",
    "\\frac{\\partial \\mathcal{L}^{(n)}}{\\partial \\textbf{w}_{j}} = \\bigg(\\frac{\\partial \\mathcal{L}^{(n)}}{\\partial w_{1j}},\\frac{\\partial \\mathcal{L}^{(n)}}{\\partial w_{2j}}  ,......, \\frac{\\partial \\mathcal{L}^{(n)}}{\\partial w_{Lj}}\\bigg)\\\\\n",
    "$\n",
    "\\begin{equation}\n",
    "\\nabla_{\\bw_{j}} \\mathcal{L}^{(n)}=\\bigg(\\frac{\\partial \\mathcal{L}^{(n)}}{\\partial w_{1j}},\\frac{\\partial \\mathcal{L}^{(n)}}{\\partial w_{2j}}  ,......, \\frac{\\partial \\mathcal{L}^{(n)}}{\\partial w_{Lj}}\\bigg)^T\\\\\n",
    "\\end{equation}\n",
    "\\begin{equation}\n",
    "\\nabla_{\\bW} \\mathcal{L}^{(n)}=\\bigg(\\nabla_{\\bw_{1}} \\mathcal{L}^{(n)},......,\\nabla_{\\bw_{10}} \\mathcal{L}^{(n)}\\bigg)\\\\\n",
    "\\end{equation}\n",
    "\n",
    "The above derived equation are just the same as derived in the very first question. But with the minor changes. previously our $\\log q_{j}$ is dependent on our input feature linearly $\\log q_j = \\bw_j^T \\bx + b_j$. But in this case we have a hidden layer. Now our  $\\log q_{j}$ is linearly dependent on the activations from each of the hidden units in the hidden layer $\\log q_j = \\bw_j^T \\bh + b_j$. This what what makes the difference as compared to previous one $\\nabla_\\bb \\mathcal{L}^{(n)}$ and $\\nabla_{\\bW} \\mathcal{L}^{(n)}$.\n",
    "\n",
    "Now Let's calculate  $\\mathbf{\\delta}_j^h = \\frac{\\partial \\mathcal{L}^{(n)}}{\\partial \\bh_j}$.\n",
    "\n",
    "$\\mathbf{\\delta}_j^h = \\frac{\\partial \\mathcal{L}^{(n)}}{\\partial \\bh_j}= \\sum_{k}^{10}\\frac{\\partial \\mathcal{L}^{(n)}}{\\partial \\log q_j}\\frac{\\partial log q_k}{\\partial \\bh_{j}}$.\n",
    "\n",
    "Here k varies from 1 to 10.\n",
    "\\begin{align}\n",
    "\\mathbf{\\delta}_j^h &= \\sum_{k} \\mathbf{\\delta}_k^q\\frac{\\partial \\log q_k}{\\partial h_j} \n",
    "= \\sum_{k} \\mathbf{\\delta}_k^q\\frac{\\partial (\\bw_j^T \\bh + b_j) }{\\partial h_j}\\\\\n",
    "&= \\sum_{k} \\mathbf{\\delta}_k^q\\frac{\\partial (\\sum_{i}^{L} w_{ik}h_{i} + b_j) }{\\partial h_j}\\\\\n",
    "\\end{align}\n",
    "\n",
    "at $i=j$\n",
    "\n",
    "\\begin{align}\n",
    "\\mathbf{\\delta}_j^h &= \\sum_{k} \\mathbf{\\delta}_k^q w_{jk}\\\\\n",
    "\\end{align}\n",
    "\n",
    "Calculate $ \\frac{\\partial \\mathcal{L}^{(n)}}{\\partial a_j}$\n",
    "\\begin{align}\n",
    "\\frac{\\partial \\mathcal{L}^{(n)}}{\\partial a_j}&=\\frac{\\partial \\mathcal{L}^{(n)}}{\\partial h_j}\\frac{\\partial h_j}{\\partial a_j}\\\\\n",
    "\\end{align}\n",
    "\n",
    "Before moving further Let's calculate $\\frac{\\partial h_j}{\\partial a_j}$ where $h_j = \\sigma(\\bv_j^T \\bx + a_j)$.\\\\\n",
    "\n",
    "$h_j = \\sigma(g_j)$ where $g_j=\\bv_j^T \\bx + a_j$ \n",
    "\n",
    "Now we can write: \n",
    "\n",
    "\\begin{align}\n",
    "\\frac{\\partial h_j}{\\partial a_j}&= \\frac{\\partial h_j}{\\partial g_j}\\frac{\\partial a_j}{\\partial a_j}\\\\\n",
    "&= \\sigma(g_j)(1-\\sigma(g_j))\\cdot 1\\\\\n",
    "\\end{align}\n",
    "Now we can write $\\frac{\\partial \\mathcal{L}^{(n)}}{\\partial a_j}$ as:\n",
    "\\begin{align}\n",
    "\\frac{\\partial \\mathcal{L}^{(n)}}{\\partial a_j}&=\\frac{\\partial \\mathcal{L}^{(n)}}{\\partial h_j}\\sigma(g_j)(1-\\sigma(g_j))\\\\\n",
    "&= \\mathbf{\\delta}_j^h  \\sigma(g_j)(1-\\sigma(g_j))\\\\\n",
    "\\end{align}\n",
    " $\\nabla_{\\ba} \\mathcal{L}^{(n)} =\\mathbf{\\delta}^h \\cdot \\sigma(g)(1-\\sigma(g)) $\n",
    " \n",
    " Where dot denotes element wise multiplication.\n",
    " \n",
    " Calculate $\\frac{\\partial \\mathcal{L}^{(n)}}{\\partial v_{ij}}$\n",
    " \\begin{align}\n",
    " \\frac{\\partial \\mathcal{L}^{(n)}}{\\partial v_{ij}}&=\\frac{\\partial \\mathcal{L}^{(n)}}{\\partial h_j}\\frac{\\partial h_j}{\\partial v_{ij}}\\\\\n",
    " &=\\mathbf{\\delta}_j^h  \\sigma(g_j)(1-\\sigma(g_j)\\frac{\\partial g_{j}}{\\partial v_{ij}}\\\\\n",
    " &=\\mathbf{\\delta}_j^h  \\sigma(g_j)(1-\\sigma(g_j)\\frac{\\partial( \\bv_j^T\\bx + a_j)}{\\partial v_{ij}}\\\\\n",
    " &=\\mathbf{\\delta}_j^h  \\sigma(g_j)(1-\\sigma(g_j)\\frac{\\partial \\sum_{i}^{M}v_{ij}x_i + a_j}{\\partial v_{ij}}\\\\\n",
    "  &=\\mathbf{\\delta}_j^h  \\sigma(g_j)(1-\\sigma(g_j)x_{i}\\\\\n",
    " \\end{align}\n",
    " \n",
    " \\begin{align}\n",
    "  \\nabla_{\\bv_j} \\mathcal{L}^{(n)} &=\\bigg(\\frac{\\partial \\mathcal{L}^{(n)}}{\\partial v_{1j}},.......,\\frac{\\partial \\mathcal{L}^{(n)}}{\\partial v_{Mj}} \\bigg)^T\\\\\n",
    "    \\nabla_{\\bV} \\mathcal{L}^{(n)}&=\\bigg(\\nabla_{\\bv_{1}} \\mathcal{L}^{(n)},......,\\nabla_{\\bv_{L}} \\mathcal{L}^{(n)}\\bigg)\\\\\n",
    " \\end{align}"
   ]
  },
  {
   "cell_type": "markdown",
   "metadata": {
    "deletable": false,
    "editable": false,
    "nbgrader": {
     "checksum": "cfcfec5959134f7f3fca2ba585a94fba",
     "grade": false,
     "grade_id": "cell-0bff945081e993fc",
     "locked": true,
     "schema_version": 1,
     "solution": false
    }
   },
   "source": [
    "## 2.2 MAP optimization (10 points)\n",
    "\n",
    "You derived equations for finding the _maximum likelihood_ solution of the parameters. Explain, in a few sentences, how you could extend this approach so that it optimizes towards a _maximum a posteriori_ (MAP) solution of the parameters, with a Gaussian prior on the parameters. "
   ]
  },
  {
   "cell_type": "markdown",
   "metadata": {
    "deletable": false,
    "nbgrader": {
     "checksum": "49d6376929b1cdf60a9ca9282512f1b4",
     "grade": true,
     "grade_id": "cell-1daef2744c010b73",
     "locked": false,
     "points": 10,
     "schema_version": 1,
     "solution": true
    }
   },
   "source": [
    "We already have derived the log-likelihood. With a Gaussian prior and using Bayes rules we can derive the log-map as: log-MAP = log-likelihood + log-prior(Independent of denominator). In deriving the log-MAP we have added a second term that regularizes the model(which is basically prior). This how we can estimate MAP estimation for our parameters."
   ]
  },
  {
   "cell_type": "markdown",
   "metadata": {
    "deletable": false,
    "editable": false,
    "nbgrader": {
     "checksum": "02e47e2058c064a6f9518077e62a9357",
     "grade": false,
     "grade_id": "cell-2e56d8a567e2fb08",
     "locked": true,
     "schema_version": 1,
     "solution": false
    }
   },
   "source": [
    "## 2.3. Implement and train a MLP (15 points)\n",
    "\n",
    "Implement a MLP model with a single hidden layer of **20 neurons**. \n",
    "Train the model for **10 epochs**.\n",
    "Plot (in one graph) the conditional log-probability of the trainingset and validation set after each two iterations, as well as the weights.\n",
    "\n",
    "- 10 points: Working MLP that learns with plots\n",
    "- +5 points: Fast, numerically stable, vectorized implementation"
   ]
  },
  {
   "cell_type": "code",
   "execution_count": 78,
   "metadata": {
    "collapsed": true,
    "deletable": false,
    "nbgrader": {
     "checksum": "f8772d3e65d7f1bef5b739a62c2e192f",
     "grade": true,
     "grade_id": "cell-5d1924ace9e216e2",
     "locked": false,
     "points": 5,
     "schema_version": 1,
     "solution": true
    }
   },
   "outputs": [],
   "source": [
    "\n",
    "def sigmoid(z):\n",
    "#     print(\"I am in sigmoid\")\n",
    "    return 1/(1.0 + np.exp(-z))\n",
    "\n",
    "def lgsum(ns): #here ns is some mxn matrix\n",
    "    max_ = np.max(ns,axis=0,keepdims=True)\n",
    "    ds = ns-max_\n",
    "    allexp = np.exp(ds)\n",
    "    smexp =np.sum(allexp,axis=0,keepdims=True)\n",
    "    return max_+np.log(smexp)\n",
    "    \n",
    "def tot_log_prob(x,y,parameters):\n",
    "    #run a fwd pass on entire dataset on learned parameters\n",
    "#     print(x.shape,y.shape)\n",
    "    logp_train=0\n",
    "    V=parameters[\"V\"]\n",
    "    a=parameters[\"a\"]\n",
    "    W=parameters[\"W\"]\n",
    "    b=parameters[\"b\"]\n",
    "#     print(a)\n",
    "#     print(\"I am in here\")\n",
    "#     print(V.shape,a.shape, W.shape, b.shape,x.shape)\n",
    "#     print(V.shape,a.shape,x.shape)\n",
    "    print(\"I am going inside of\")\n",
    "    g=np.dot(x,V).T+a\n",
    "    print(g.shape)\n",
    "    h = sigmoid(np.dot(x,V).T+a)\n",
    "    print(\"I am out of\")\n",
    "    \n",
    "    logq= np.dot(h.T,W).T+b\n",
    "#     print(\"before\")\n",
    "    logZ= lgsum(logq)\n",
    "#     print(\"after\")\n",
    "    logp= logq-logZ\n",
    "#     print(h.shape,logq.shape,logZ.shape,logp.shape)\n",
    "    c_lgp=[logp[y[i]][i] for i in range(0,len(y))]\n",
    "    c_sm = np.sum(np.array(c_lgp))\n",
    "    logp_train=c_sm\n",
    "#     print(logp_train)\n",
    "    return logp_train\n",
    "\n",
    "\n",
    "\n",
    "\n",
    "def layer_sizes(x_train,t_train,L,n_class):\n",
    "    '''\n",
    "    Returns:\n",
    "        n_x -- the size of the input layer\n",
    "        n_h -- the size of the hidden layer\n",
    "        n_y -- the size of the output layer\n",
    "    '''\n",
    "    n_x = x_train.shape[1]\n",
    "    n_h = L\n",
    "    n_y = n_class\n",
    "    \n",
    "    return n_x,n_h,n_y\n",
    "\n",
    "def initialize_parameters(n_x, n_h, n_y):\n",
    "    \"\"\"\n",
    "    Argument:\n",
    "    n_x -- size of the input layer\n",
    "    n_h -- size of the hidden layer\n",
    "    n_y -- size of the output layer\n",
    "    \n",
    "    Returns:\n",
    "    params -- python dictionary containing your parameters:\n",
    "                    V -- weight matrix of shape (n_x,n_h)\n",
    "                    a -- bias vector of shape (n_h, 1)\n",
    "                    W -- weight matrix of shape (n_h,n_y)\n",
    "                    b -- bias vector of shape (n_y, 1)\n",
    "    \"\"\"  \n",
    "                    \n",
    "    V = np.random.normal(size=(n_x,n_h), scale=0.001)   \n",
    "    a = np.zeros((n_h,1))\n",
    "    W = np.random.normal(size=(n_h,n_y), scale=0.001)\n",
    "    b = np.zeros((n_y,1))  \n",
    "    \n",
    "#     print(V.shape,a.shape,W.shape,b.shape)\n",
    "        \n",
    "    assert V.shape == (n_x,n_h)\n",
    "    assert a.shape == (n_h,1)\n",
    "    assert W.shape == (n_h,n_y)\n",
    "    assert b.shape == (n_y,1)\n",
    "    \n",
    "    parameters = {\"V\": V,\n",
    "                  \"a\": a,\n",
    "                  \"W\": W,\n",
    "                  \"b\": b}\n",
    "    \n",
    "    return parameters\n",
    "\n",
    "def cal_dh(x,delta):\n",
    "    dw=(np.tile(x,(20,1))).T\n",
    "    return dw*(delta.T)\n",
    "#this will calculate gradients of all the parameters\n",
    "\n",
    "def cal_gradient(x_train,t_train,parameters):\n",
    "    #for each training example this will calculate gradients through backpropagation\n",
    "    V=parameters[\"V\"]\n",
    "    a=parameters[\"a\"]\n",
    "    W=parameters[\"W\"]\n",
    "    b=parameters[\"b\"]\n",
    "#     print(V.shape,a.shape,W.shape,b.shape)\n",
    "    a=np.reshape(a,(20,1))\n",
    "    b=np.reshape(b,(10,1))\n",
    "    ##Forward Prop\n",
    "#     print(a)\n",
    "#     print(x_train.shape)\n",
    "    \n",
    "    h= sigmoid(np.dot(x_train,V).T+a)\n",
    "    \n",
    "    logq = np.dot(h.T,W).T + b\n",
    "    \n",
    "    logZ = logsmexp(logq)\n",
    "    #     print(logZ,logq.shape,logq)\n",
    "    loqp= logq-logZ\n",
    "    \n",
    "    loqp = np.transpose(loqp)\n",
    "#     print(loqp,t_train)\n",
    "    ##forward Props ends\n",
    "    \n",
    "    #Back Propogation\n",
    "    #Calculate delta use j=tn and j!=tn to get the delta vector. These gradients are for ouput layer\n",
    "    deltaq = cal_delta(logq,t_train,logZ)\n",
    "    dL_b = deltaq\n",
    "    dL_w = np.dot(h,deltaq.T)\n",
    "    #calculate gradient for hidden parameters\n",
    "    deltah = np.dot(W,deltaq)\n",
    "    dL_a = deltah*h*(1-h)\n",
    "    dL_v = np.dot(x_train.T,dL_a.T)\n",
    "#     print(dL_a.shape,dL_v.shape)\n",
    "    #backprop ends\n",
    "    \n",
    "#     assert V.shape == dL_v.shape\n",
    "#     assert a.shape == dL_a.shape\n",
    "#     assert W.shape == dL_w.shape\n",
    "#     assert b.shape == dL_b.shape\n",
    "    grads = {\"dL_v\": dL_v,\n",
    "             \"dL_a\": dL_a,\n",
    "             \"dL_w\": dL_w,\n",
    "             \"dL_b\": dL_b}\n",
    "    return dL_w, dL_b, dL_v, dL_a\n",
    "\n",
    "def sgd_mlp_iter(x_train, t_train, parameters,learning_rate):\n",
    "\n",
    "    V=parameters[\"V\"]\n",
    "    a=parameters[\"a\"]\n",
    "    W=parameters[\"W\"]\n",
    "    b=parameters[\"b\"]\n",
    "    for i in range(0,len(t_train)):\n",
    "\n",
    "        dL_w, dL_b, dL_v, dL_a = cal_gradient(x_train[i:i+1,:], t_train[i:i+1],parameters)\n",
    "        \n",
    "        \n",
    "#         print(\"jdsdkj\",logpt)\n",
    "        W = W + learning_rate*dL_w\n",
    "        b = b + learning_rate*dL_b\n",
    "        V = V + learning_rate*dL_v\n",
    "        a = a + learning_rate*dL_a\n",
    "    #parameters after one complete training\n",
    "    parameters = {\"V\": V,\n",
    "                  \"a\": a,\n",
    "                  \"W\": W,\n",
    "                  \"b\": b}\n",
    "#     tot_log_prob(x_train,t_train,parameters)\n",
    "    return parameters\n",
    "\n",
    "\n",
    "\n",
    "n_x,n_h,n_y=layer_sizes(x_train,t_train,20,10)\n",
    "parameters=initialize_parameters(n_x, n_h, n_y)\n",
    "\n",
    "dL_w, dL_b, dL_v, dL_a=cal_gradient(x_train[0:10,:],t_train[0:10],parameters)\n",
    "parameters=sgd_mlp_iter(x_train[0:1000,:],t_train[0:1000], parameters,10**(-1))\n",
    "# parameters=sgd_mlp_iter(x_train, t_train, parameters)\n"
   ]
  },
  {
   "cell_type": "code",
   "execution_count": 79,
   "metadata": {
    "deletable": false,
    "nbgrader": {
     "checksum": "301c1950ea79e09141e8ed170bd8b21b",
     "grade": true,
     "grade_id": "cell-e9b2125a5ea8a22c",
     "locked": false,
     "points": 10,
     "schema_version": 1,
     "solution": true
    }
   },
   "outputs": [
    {
     "name": "stdout",
     "output_type": "stream",
     "text": [
      "0\n",
      "I am going inside of\n",
      "(20, 50000)\n",
      "I am out of\n",
      "I am going inside of\n",
      "(20, 10000)\n",
      "I am out of\n",
      "1\n",
      "I am going inside of\n",
      "(20, 50000)\n"
     ]
    },
    {
     "name": "stderr",
     "output_type": "stream",
     "text": [
      "/home/tarun/miniconda3/envs/mllab/lib/python3.6/site-packages/ipykernel_launcher.py:4: RuntimeWarning: overflow encountered in exp\n",
      "  after removing the cwd from sys.path.\n"
     ]
    },
    {
     "name": "stdout",
     "output_type": "stream",
     "text": [
      "I am out of\n",
      "I am going inside of\n",
      "(20, 10000)\n",
      "I am out of\n",
      "2\n",
      "I am going inside of\n",
      "(20, 50000)\n",
      "I am out of\n",
      "I am going inside of\n",
      "(20, 10000)\n",
      "I am out of\n"
     ]
    }
   ],
   "source": [
    "#Train and Plots\n",
    "training_epochs=3\n",
    "learning_rate=10**(-1)\n",
    "L=20    #no. of hidden units\n",
    "total_class =10\n",
    "n_x,n_h,n_y= layer_sizes(x_train,t_train,L,total_class)\n",
    "parameters = initialize_parameters(n_x, n_h, n_y) #initalize params\n",
    "\n",
    "log_tr=[]\n",
    "log_val=[]\n",
    "for i in range(0,training_epochs):\n",
    "    #random shuffle\n",
    "    print(i)\n",
    "    parameters = sgd_mlp_iter(x_train, t_train, parameters,learning_rate)\n",
    "    log_tr.append(tot_log_prob(x_train,t_train,parameters))\n",
    "    log_val.append(tot_log_prob(x_valid,t_valid,parameters))\n",
    "#     print(tot_log_prob(x_train,t_train,parameters),tot_log_prob(x_valid,t_valid,parameters))\n",
    "\n",
    "# plt.plot(range(0,10),log_tr,'ro-')\n",
    "# plt.plot(range(0,10),log_val,'bo-')\n",
    "plt.show()\n",
    "    \n"
   ]
  },
  {
   "cell_type": "markdown",
   "metadata": {
    "deletable": false,
    "editable": false,
    "nbgrader": {
     "checksum": "555a73588f1a55d1185064f5a6192cac",
     "grade": false,
     "grade_id": "cell-6ae8cb5a4c246b97",
     "locked": true,
     "schema_version": 1,
     "solution": false
    }
   },
   "source": [
    "### 2.3.1. Explain the weights (5 points)\n",
    "In less than 80 words, explain how and why the weights of the hidden layer of the MLP differ from the logistic regression model, and relate this to the stronger performance of the MLP."
   ]
  },
  {
   "cell_type": "markdown",
   "metadata": {
    "deletable": false,
    "nbgrader": {
     "checksum": "7f6cbf48a398f8722f4d403b957b2075",
     "grade": true,
     "grade_id": "cell-c4fdc27b1aab6828",
     "locked": false,
     "points": 5,
     "schema_version": 1,
     "solution": true
    }
   },
   "source": [
    "Weights associated with hidden layers of MLP differ from weights that we had while performing logistic regression. Weights connecting input features to hidden layers can be considered as features extracted from Input image and they can be visualize as some sort of edges(horizontal, vertial inclined). Further this weight act as feature for next layer.So we get more information based on previous. May be in the current connections we learn more higher level features or more complex features. Well this is the concept for whole nueral network. Your network learns more complex features as you moved forward. This we don't have in logistic regression "
   ]
  },
  {
   "cell_type": "markdown",
   "metadata": {
    "deletable": false,
    "editable": false,
    "nbgrader": {
     "checksum": "fa501d2127075b733105148f21adbaf2",
     "grade": false,
     "grade_id": "cell-df7f372be57b921b",
     "locked": true,
     "schema_version": 1,
     "solution": false
    }
   },
   "source": [
    "### 2.3.1. Less than 250 misclassifications on the test set (10 bonus points)\n",
    "\n",
    "You receive an additional 10 bonus points if you manage to train a model with very high accuracy: at most 2.5% misclasified digits on the test set. Note that the test set contains 10000 digits, so you model should misclassify at most 250 digits. This should be achievable with a MLP model with one hidden layer. See results of various models at : `http://yann.lecun.com/exdb/mnist/index.html`. To reach such a low accuracy, you probably need to have a very high $L$ (many hidden units), probably $L > 200$, and apply a strong Gaussian prior on the weights. In this case you are allowed to use the validation set for training.\n",
    "You are allowed to add additional layers, and use convolutional networks, although that is probably not required to reach 2.5% misclassifications."
   ]
  },
  {
   "cell_type": "code",
   "execution_count": null,
   "metadata": {
    "collapsed": true,
    "deletable": false,
    "nbgrader": {
     "checksum": "3d3ce073f1614deb4cc03de3f19879aa",
     "grade": false,
     "grade_id": "cell-2ea313ac02319aa0",
     "locked": false,
     "schema_version": 1,
     "solution": true
    }
   },
   "outputs": [],
   "source": [
    "predict_test = np.zeros(len(t_test))\n",
    "# Fill predict_test with the predicted targets from your model, don't cheat :-).\n",
    "# YOUR CODE HERE\n",
    "raise NotImplementedError()"
   ]
  },
  {
   "cell_type": "code",
   "execution_count": null,
   "metadata": {
    "collapsed": true,
    "deletable": false,
    "editable": false,
    "nbgrader": {
     "checksum": "b540e8fc73d65a4cc4139d9841e4aaba",
     "grade": true,
     "grade_id": "cell-4ad977cd0b7d27df",
     "locked": true,
     "points": 10,
     "schema_version": 1,
     "solution": false
    }
   },
   "outputs": [],
   "source": [
    "assert predict_test.shape == t_test.shape\n",
    "n_errors = np.sum(predict_test != t_test)\n",
    "print('Test errors: %d' % n_errors)"
   ]
  }
 ],
 "metadata": {
  "kernelspec": {
   "display_name": "Python 3",
   "language": "python",
   "name": "python3"
  },
  "language_info": {
   "codemirror_mode": {
    "name": "ipython",
    "version": 3
   },
   "file_extension": ".py",
   "mimetype": "text/x-python",
   "name": "python",
   "nbconvert_exporter": "python",
   "pygments_lexer": "ipython3",
   "version": "3.6.2"
  }
 },
 "nbformat": 4,
 "nbformat_minor": 1
}
